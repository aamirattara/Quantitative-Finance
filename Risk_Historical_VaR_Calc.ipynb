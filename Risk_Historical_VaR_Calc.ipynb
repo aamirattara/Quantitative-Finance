{
  "nbformat": 4,
  "nbformat_minor": 0,
  "metadata": {
    "colab": {
      "provenance": [],
      "authorship_tag": "ABX9TyMuwpqVUqsfy5cIFmy9wKDR",
      "include_colab_link": true
    },
    "kernelspec": {
      "name": "python3",
      "display_name": "Python 3"
    },
    "language_info": {
      "name": "python"
    }
  },
  "cells": [
    {
      "cell_type": "markdown",
      "metadata": {
        "id": "view-in-github",
        "colab_type": "text"
      },
      "source": [
        "<a href=\"https://colab.research.google.com/github/aamirattara/Quantitative-Finance/blob/main/Risk_Historical_VaR_Calc.ipynb\" target=\"_parent\"><img src=\"https://colab.research.google.com/assets/colab-badge.svg\" alt=\"Open In Colab\"/></a>"
      ]
    },
    {
      "cell_type": "code",
      "execution_count": null,
      "metadata": {
        "colab": {
          "base_uri": "https://localhost:8080/"
        },
        "id": "JcDV6k7joAts",
        "outputId": "734c525d-d055-47d6-8cdf-6e6e13b0bb16"
      },
      "outputs": [
        {
          "output_type": "stream",
          "name": "stderr",
          "text": [
            "/tmp/ipython-input-3590979342.py:12: FutureWarning: YF.download() has changed argument auto_adjust default to True\n",
            "  data = yf.download(ticker, start=start_date, end=end_date)\n",
            "\r[*********************100%***********************]  1 of 1 completed"
          ]
        },
        {
          "output_type": "stream",
          "name": "stdout",
          "text": [
            "95% 1-day Historical VaR for AAPL from 2024-01-01 to 2024-12-31: -2.16%\n",
            "Interpretation: On 95% of days, loss will not exceed 2.16%\n"
          ]
        },
        {
          "output_type": "stream",
          "name": "stderr",
          "text": [
            "\n"
          ]
        }
      ],
      "source": [
        "import yfinance as yf\n",
        "import pandas as pd\n",
        "import numpy as np\n",
        "\n",
        "# --- Parameters ---\n",
        "ticker = \"AAPL\"                # Stock symbol\n",
        "start_date = \"2024-01-01\"      # Start date\n",
        "end_date = \"2024-12-31\"        # End date\n",
        "confidence_level = 0.95        # 95% VaR\n",
        "\n",
        "# --- Step 1: Download data ---\n",
        "data = yf.download(ticker, start=start_date, end=end_date)\n",
        "data = data['Close']\n",
        "\n",
        "# --- Step 2: Calculate daily returns ---\n",
        "returns = data.pct_change().dropna()\n",
        "\n",
        "# --- Step 3: Calculate Historical VaR ---\n",
        "var_percentile = (1 - confidence_level) * 100   # e.g. 5% for 95% confidence\n",
        "VaR = np.percentile(returns, var_percentile)\n",
        "\n",
        "# --- Step 4: Report results ---\n",
        "print(f\"{confidence_level*100:.0f}% 1-day Historical VaR for {ticker} \"\n",
        "      f\"from {start_date} to {end_date}: {VaR:.2%}\")\n",
        "print(f\"Interpretation: On {confidence_level*100:.0f}% of days, \"\n",
        "      f\"loss will not exceed {abs(VaR):.2%}\")\n"
      ]
    }
  ]
}