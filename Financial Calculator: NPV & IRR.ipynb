{
  "nbformat": 4,
  "nbformat_minor": 0,
  "metadata": {
    "colab": {
      "provenance": [],
      "authorship_tag": "ABX9TyPyBgpXUbN+vke3HKI5B/bY",
      "include_colab_link": true
    },
    "kernelspec": {
      "name": "python3",
      "display_name": "Python 3"
    },
    "language_info": {
      "name": "python"
    }
  },
  "cells": [
    {
      "cell_type": "markdown",
      "metadata": {
        "id": "view-in-github",
        "colab_type": "text"
      },
      "source": [
        "<a href=\"https://colab.research.google.com/github/aamirattara/Quantitative-Finance/blob/main/Financial%20Calculator%3A%20NPV%20%26%20IRR.ipynb\" target=\"_parent\"><img src=\"https://colab.research.google.com/assets/colab-badge.svg\" alt=\"Open In Colab\"/></a>"
      ]
    },
    {
      "cell_type": "markdown",
      "source": [
        "**Install numpy-financial**"
      ],
      "metadata": {
        "id": "eWEKVv7dG_Ab"
      }
    },
    {
      "cell_type": "code",
      "source": [
        "!pip install numpy-financial"
      ],
      "metadata": {
        "colab": {
          "base_uri": "https://localhost:8080/"
        },
        "id": "68vO4W2-AdBT",
        "outputId": "5cd7f21b-2387-49ff-f418-c8f3dd0da426"
      },
      "execution_count": null,
      "outputs": [
        {
          "output_type": "stream",
          "name": "stdout",
          "text": [
            "Collecting numpy-financial\n",
            "  Downloading numpy_financial-1.0.0-py3-none-any.whl.metadata (2.2 kB)\n",
            "Requirement already satisfied: numpy>=1.15 in /usr/local/lib/python3.12/dist-packages (from numpy-financial) (2.0.2)\n",
            "Downloading numpy_financial-1.0.0-py3-none-any.whl (14 kB)\n",
            "Installing collected packages: numpy-financial\n",
            "Successfully installed numpy-financial-1.0.0\n"
          ]
        }
      ]
    },
    {
      "cell_type": "markdown",
      "source": [
        "**NPV & IRR Function (Separate Call)**"
      ],
      "metadata": {
        "id": "PQy0vhPkHdQd"
      }
    },
    {
      "cell_type": "code",
      "source": [
        "import numpy as np\n",
        "import numpy_financial as npf\n",
        "\n",
        "def calculate_npv(discount_rate, cash_flows):\n",
        "    npv = 0\n",
        "    for t, cash in enumerate(cash_flows):\n",
        "        npv += cash / ((1 + discount_rate) ** t)\n",
        "\n",
        "    if npv > 0:\n",
        "        decision = \"Accept (NPV is positive, project adds value)\"\n",
        "    elif npv < 0:\n",
        "        decision = \"Reject (NPV is negative, project destroys value)\"\n",
        "    else:\n",
        "        decision = \"Indifferent (NPV = 0, no gain or loss)\"\n",
        "\n",
        "    return npv, decision\n",
        "\n",
        "def calculate_irr(cash_flows, discount_rate):\n",
        "    irr = npf.irr(cash_flows)   # <-- this is the line you were asking about\n",
        "\n",
        "    if irr > discount_rate:\n",
        "        decision = \"Accept (IRR exceeds required return)\"\n",
        "    elif irr < discount_rate:\n",
        "        decision = \"Reject (IRR is less than required return)\"\n",
        "    else:\n",
        "        decision = \"Indifferent (IRR equals required return)\"\n",
        "\n",
        "    return irr, decision\n",
        "\n",
        "\n",
        "# Example usage\n",
        "cash_flows = [-1000, 300, 400, 500, 600]\n",
        "discount_rate = 0.1\n",
        "\n",
        "npv, npv_decision = calculate_npv(discount_rate, cash_flows)\n",
        "print(f\"NPV: {npv:.2f} -> {npv_decision}\")\n",
        "\n",
        "irr, irr_decision = calculate_irr(cash_flows, discount_rate)\n",
        "print(f\"IRR: {irr*100:.2f}% -> {irr_decision}\")\n"
      ],
      "metadata": {
        "colab": {
          "base_uri": "https://localhost:8080/"
        },
        "id": "XORXv_lyAwkh",
        "outputId": "162bfcf0-af00-4ca4-fdb2-9cac31cb2313"
      },
      "execution_count": null,
      "outputs": [
        {
          "output_type": "stream",
          "name": "stdout",
          "text": [
            "NPV: 388.77 -> Accept (NPV is positive, project adds value)\n",
            "IRR: 24.89% -> Accept (IRR exceeds required return)\n"
          ]
        }
      ]
    },
    {
      "cell_type": "markdown",
      "source": [
        "**Combined Financial Analysis Function**"
      ],
      "metadata": {
        "id": "E4U7xncVHHCq"
      }
    },
    {
      "cell_type": "code",
      "execution_count": null,
      "metadata": {
        "colab": {
          "base_uri": "https://localhost:8080/"
        },
        "id": "I2qq3FnM_mYg",
        "outputId": "fa2b93f1-0fbd-4ea4-8690-315ede1b6482"
      },
      "outputs": [
        {
          "output_type": "stream",
          "name": "stdout",
          "text": [
            "\n",
            "====== Project Financial Analysis ======\n",
            "\n",
            "Cash Flows: [-1000, 300, 400, 500, 600]\n",
            "Discount Rate: 10.00%\n",
            "\n",
            "Net Present Value (NPV): 388.77\n",
            "Decision (NPV Rule): Accept (NPV is positive, project adds value)\n",
            "\n",
            "Internal Rate of Return (IRR): 24.89%\n",
            "Decision (IRR Rule): Accept (IRR exceeds required return)\n",
            "\n",
            "------ Final Recommendation ------\n",
            "✅ Accept: Both NPV and IRR support investment.\n"
          ]
        }
      ],
      "source": [
        "import numpy as np\n",
        "import numpy_financial as npf\n",
        "\n",
        "# -------------------------------\n",
        "# Function to calculate Net Present Value (NPV)\n",
        "# -------------------------------\n",
        "def calculate_npv(discount_rate, cash_flows):\n",
        "    npv = 0\n",
        "    for t, cash in enumerate(cash_flows):\n",
        "        npv += cash / ((1 + discount_rate) ** t)\n",
        "\n",
        "    if npv > 0:\n",
        "        decision = \"Accept (NPV is positive, project adds value)\"\n",
        "    elif npv < 0:\n",
        "        decision = \"Reject (NPV is negative, project destroys value)\"\n",
        "    else:\n",
        "        decision = \"Indifferent (NPV = 0, no gain or loss)\"\n",
        "\n",
        "    return npv, decision\n",
        "\n",
        "\n",
        "# -------------------------------\n",
        "# Function to calculate Internal Rate of Return (IRR)\n",
        "# -------------------------------\n",
        "def calculate_irr(cash_flows, discount_rate):\n",
        "    irr = npf.irr(cash_flows)\n",
        "\n",
        "    if irr > discount_rate:\n",
        "        decision = \"Accept (IRR exceeds required return)\"\n",
        "    elif irr < discount_rate:\n",
        "        decision = \"Reject (IRR is less than required return)\"\n",
        "    else:\n",
        "        decision = \"Indifferent (IRR equals required return)\"\n",
        "\n",
        "    return irr, decision\n",
        "\n",
        "\n",
        "# -------------------------------\n",
        "# Combined Financial Analysis Report\n",
        "# -------------------------------\n",
        "def analyze_project(cash_flows, discount_rate):\n",
        "    \"\"\"\n",
        "    Analyze project using NPV and IRR with decision rules.\n",
        "\n",
        "    Parameters:\n",
        "    cash_flows (list): List of project cash flows\n",
        "    discount_rate (float): Required rate of return (benchmark)\n",
        "\n",
        "    Returns:\n",
        "    None (prints report)\n",
        "    \"\"\"\n",
        "\n",
        "    print(\"\\n====== Project Financial Analysis ======\\n\")\n",
        "    print(f\"Cash Flows: {cash_flows}\")\n",
        "    print(f\"Discount Rate: {discount_rate*100:.2f}%\\n\")\n",
        "\n",
        "    # NPV\n",
        "    npv, npv_decision = calculate_npv(discount_rate, cash_flows)\n",
        "    print(f\"Net Present Value (NPV): {npv:.2f}\")\n",
        "    print(f\"Decision (NPV Rule): {npv_decision}\\n\")\n",
        "\n",
        "    # IRR\n",
        "    irr, irr_decision = calculate_irr(cash_flows, discount_rate)\n",
        "    print(f\"Internal Rate of Return (IRR): {irr*100:.2f}%\")\n",
        "    print(f\"Decision (IRR Rule): {irr_decision}\\n\")\n",
        "\n",
        "    # Combined recommendation\n",
        "    print(\"------ Final Recommendation ------\")\n",
        "    if npv > 0 and irr > discount_rate:\n",
        "        print(\"✅ Accept: Both NPV and IRR support investment.\")\n",
        "    elif npv < 0 and irr < discount_rate:\n",
        "        print(\"❌ Reject: Both NPV and IRR advise against investment.\")\n",
        "    else:\n",
        "        print(\"⚖️ Mixed decision: Further analysis may be required.\")\n",
        "\n",
        "\n",
        "# -------------------------------\n",
        "# Example usage\n",
        "# -------------------------------\n",
        "if __name__ == \"__main__\":\n",
        "    cash_flows = [-1000, 300, 400, 500, 600]\n",
        "    discount_rate = 0.1  # 10%\n",
        "\n",
        "    analyze_project(cash_flows, discount_rate)\n"
      ]
    }
  ]
}