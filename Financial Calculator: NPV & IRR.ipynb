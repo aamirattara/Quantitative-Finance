{
  "nbformat": 4,
  "nbformat_minor": 0,
  "metadata": {
    "colab": {
      "provenance": [],
      "authorship_tag": "ABX9TyP+YMi9d3maAASJHBYGmIWR",
      "include_colab_link": true
    },
    "kernelspec": {
      "name": "python3",
      "display_name": "Python 3"
    },
    "language_info": {
      "name": "python"
    }
  },
  "cells": [
    {
      "cell_type": "markdown",
      "metadata": {
        "id": "view-in-github",
        "colab_type": "text"
      },
      "source": [
        "<a href=\"https://colab.research.google.com/github/aamirattara/Quantitative-Finance/blob/main/Financial%20Calculator%3A%20NPV%20%26%20IRR.ipynb\" target=\"_parent\"><img src=\"https://colab.research.google.com/assets/colab-badge.svg\" alt=\"Open In Colab\"/></a>"
      ]
    },
    {
      "cell_type": "code",
      "execution_count": null,
      "metadata": {
        "id": "j3UrwFLftYxa"
      },
      "outputs": [],
      "source": [
        "def calculate_npv(cash_flows, discount_rate):\n",
        "    \"\"\"\n",
        "    Calculate the Net Present Value (NPV) of a series of cash flows.\n",
        "\n",
        "    Parameters:\n",
        "    cash_flows (list of float): List of cash flows where index represents time period (t=0, t=1, ...)\n",
        "    discount_rate (float): Discount rate as a decimal (e.g., 10% = 0.10)\n",
        "\n",
        "    Returns:\n",
        "    float: The calculated NPV\n",
        "    \"\"\"\n",
        "\n",
        "    # Start with NPV = 0\n",
        "    npv = 0.0\n",
        "\n",
        "    # Loop through each cash flow with its index as time period t\n",
        "    for t in range(len(cash_flows)):\n",
        "        cash_flow = cash_flows[t]  # Get cash flow at time t\n",
        "\n",
        "        # Apply the NPV formula: C_t / (1 + r)^t\n",
        "        discounted_cash_flow = cash_flow / ((1 + discount_rate) ** t)\n",
        "\n",
        "        # Add the discounted cash flow to the total NPV\n",
        "        npv += discounted_cash_flow\n",
        "\n",
        "    # Return the total NPV\n",
        "    return npv\n"
      ]
    },
    {
      "cell_type": "code",
      "source": [
        "# Example inputs\n",
        "\n",
        "initial_investment = -10000  # Cash outflow at t=0\n",
        "future_cash_flows = [3000, 4000, 5000, 6000]  # Future inflows at t=1, t=2, t=3, t=4\n",
        "discount_rate = 0.10  # 10% discount rate\n",
        "\n",
        "# Combine initial investment and future cash flows into a single list\n",
        "cash_flows = [initial_investment] + future_cash_flows\n",
        "\n",
        "# Call the NPV function\n",
        "npv = calculate_npv(cash_flows, discount_rate)\n",
        "\n",
        "# Print the result rounded to 2 decimal places\n",
        "print(f\"NPV of the investment is: ${npv:.2f}\")\n"
      ],
      "metadata": {
        "colab": {
          "base_uri": "https://localhost:8080/"
        },
        "id": "qw3JMBRyt44T",
        "outputId": "6a042105-3712-4d0f-a87d-d1c972c23a9a"
      },
      "execution_count": null,
      "outputs": [
        {
          "output_type": "stream",
          "name": "stdout",
          "text": [
            "NPV of the investment is: $3887.71\n"
          ]
        }
      ]
    },
    {
      "cell_type": "code",
      "source": [
        "def calculate_irr(cash_flows, initial_guess=0.1, max_iterations=1000, tolerance=1e-6):\n",
        "    \"\"\"\n",
        "    Calculate the Internal Rate of Return (IRR) for a series of cash flows.\n",
        "\n",
        "    Parameters:\n",
        "        cash_flows (list): A list of cash flows. First value is usually negative (initial investment).\n",
        "        initial_guess (float): Starting guess for IRR (default is 0.1 = 10%)\n",
        "        max_iterations (int): Maximum number of iterations for convergence.\n",
        "        tolerance (float): Accuracy level to stop the iterations.\n",
        "\n",
        "    Returns:\n",
        "        float: Estimated IRR as a decimal (e.g., 0.12 for 12%)\n",
        "    \"\"\"\n",
        "\n",
        "    # Start with an initial guess for IRR\n",
        "    irr = initial_guess\n",
        "\n",
        "    for i in range(max_iterations):\n",
        "        # Calculate the Net Present Value (NPV) at current guess\n",
        "        npv = sum(cf / (1 + irr) ** idx for idx, cf in enumerate(cash_flows))\n",
        "\n",
        "        # Calculate the derivative of NPV with respect to IRR (used for Newton-Raphson)\n",
        "        d_npv = sum(-idx * cf / (1 + irr) ** (idx + 1) for idx, cf in enumerate(cash_flows))\n",
        "\n",
        "        # Avoid division by zero or flat derivative\n",
        "        if d_npv == 0:\n",
        "            return None  # IRR can't be found with this method\n",
        "\n",
        "        # Newton-Raphson update step\n",
        "        new_irr = irr - npv / d_npv\n",
        "\n",
        "        # Check if the result is within acceptable tolerance\n",
        "        if abs(new_irr - irr) < tolerance:\n",
        "            return new_irr  # IRR has converged\n",
        "\n",
        "        # Update IRR for next iteration\n",
        "        irr = new_irr\n",
        "\n",
        "    # If we reach here, method did not converge\n",
        "    return None\n",
        "\n",
        "# Example usage:\n",
        "cash_flows = [-1000, 200, 300, 400, 500]  # Initial investment followed by returns\n",
        "irr = calculate_irr(cash_flows)\n",
        "\n",
        "if irr is not None:\n",
        "    print(f\"Calculated IRR: {irr:.4%}\")  # Display IRR as a percentage\n",
        "else:\n",
        "    print(\"IRR calculation did not converge.\")\n"
      ],
      "metadata": {
        "colab": {
          "base_uri": "https://localhost:8080/"
        },
        "id": "s7x5BUj6CD_u",
        "outputId": "499b869a-4b8b-47b2-8452-b160257e9ad2"
      },
      "execution_count": null,
      "outputs": [
        {
          "output_type": "stream",
          "name": "stdout",
          "text": [
            "Calculated IRR: 12.8257%\n"
          ]
        }
      ]
    }
  ]
}